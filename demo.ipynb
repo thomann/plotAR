{
 "cells": [
  {
   "cell_type": "markdown",
   "metadata": {},
   "source": [
    "# Welcome to plotAR"
   ]
  },
  {
   "cell_type": "code",
   "execution_count": 1,
   "metadata": {},
   "outputs": [],
   "source": [
    "import plotar\n",
    "import pandas as pd\n",
    "import numpy as np\n",
    "import matplotlib.pyplot as plt\n",
    "from pathlib import Path\n",
    "import requests\n",
    "import json"
   ]
  },
  {
   "cell_type": "markdown",
   "metadata": {},
   "source": [
    "## Iris"
   ]
  },
  {
   "cell_type": "code",
   "execution_count": 2,
   "metadata": {},
   "outputs": [],
   "source": [
    "from sklearn import datasets\n",
    "iris = datasets.load_iris()"
   ]
  },
  {
   "cell_type": "code",
   "execution_count": 3,
   "metadata": {},
   "outputs": [],
   "source": [
    "plotar.plotar(iris.data, iris.target)"
   ]
  },
  {
   "cell_type": "code",
   "execution_count": 4,
   "metadata": {
    "collapsed": true,
    "jupyter": {
     "outputs_hidden": true
    },
    "tags": []
   },
   "outputs": [
    {
     "data": {
      "text/html": [
       "\n",
       "        <iframe\n",
       "            width=\"100%\"\n",
       "            height=\"500\"\n",
       "            src=\"http://localhost:8009/plotar/keyboard.html?token=b2126a413b611bcb2f9bdbcea9b82247592242dc61ca6381\"\n",
       "            frameborder=\"0\"\n",
       "            allowfullscreen\n",
       "        ></iframe>\n",
       "        "
      ],
      "text/plain": [
       "<IPython.lib.display.IFrame at 0x7f7f47e56d90>"
      ]
     },
     "execution_count": 4,
     "metadata": {},
     "output_type": "execute_result"
    }
   ],
   "source": [
    "plotar.controller(height=500)"
   ]
  },
  {
   "cell_type": "markdown",
   "metadata": {},
   "source": [
    "Just scan the QR-Code with your mobile device and open the URL - this will open that keyboard in your browser. Tap on the the AR-Icon to step in the Augmented Reality."
   ]
  },
  {
   "cell_type": "markdown",
   "metadata": {},
   "source": [
    "What should happen here is, that your mobile device connects to this very Jupyter server! For that to work plotar tries to guess a URL that also works from you mobile: ![Architecture](images/architecture.png)"
   ]
  },
  {
   "cell_type": "markdown",
   "metadata": {},
   "source": [
    "**Troubleshooting**: If you cannot connect to this server consider the following steps:\n",
    "* Enable connections from outside by (re-)starting Jupyter: `jupyter lab --ip=\"*\"`\n",
    "* Try to have your mobile device to be on the same network as your desktop."
   ]
  },
  {
   "cell_type": "markdown",
   "metadata": {},
   "source": [
    "**WARNING** Jupyter is secured by default to have a non-guessable token to get some level of security, but still you probably do not use HTTPS, so anybody intercepting the traffic between you mobile device and your desktop can see all your data! This might be ok in your home network or in a company enterprise - be cautious!\n",
    "\n",
    "Traffic with mybinder.org actually is secured by HTTPS and the token."
   ]
  },
  {
   "cell_type": "markdown",
   "metadata": {},
   "source": [
    "## GAPminder"
   ]
  },
  {
   "cell_type": "code",
   "execution_count": 5,
   "metadata": {},
   "outputs": [],
   "source": [
    "url = 'https://raw.githubusercontent.com/plotly/datasets/master/gapminderDataFiveYear.csv'\n",
    "gap = pd.read_csv(url)"
   ]
  },
  {
   "cell_type": "code",
   "execution_count": 6,
   "metadata": {},
   "outputs": [
    {
     "data": {
      "text/html": [
       "<div>\n",
       "<style scoped>\n",
       "    .dataframe tbody tr th:only-of-type {\n",
       "        vertical-align: middle;\n",
       "    }\n",
       "\n",
       "    .dataframe tbody tr th {\n",
       "        vertical-align: top;\n",
       "    }\n",
       "\n",
       "    .dataframe thead th {\n",
       "        text-align: right;\n",
       "    }\n",
       "</style>\n",
       "<table border=\"1\" class=\"dataframe\">\n",
       "  <thead>\n",
       "    <tr style=\"text-align: right;\">\n",
       "      <th></th>\n",
       "      <th>country</th>\n",
       "      <th>year</th>\n",
       "      <th>pop</th>\n",
       "      <th>continent</th>\n",
       "      <th>lifeExp</th>\n",
       "      <th>gdpPercap</th>\n",
       "    </tr>\n",
       "  </thead>\n",
       "  <tbody>\n",
       "    <tr>\n",
       "      <th>0</th>\n",
       "      <td>Afghanistan</td>\n",
       "      <td>1952</td>\n",
       "      <td>8425333.0</td>\n",
       "      <td>Asia</td>\n",
       "      <td>28.801</td>\n",
       "      <td>779.445314</td>\n",
       "    </tr>\n",
       "    <tr>\n",
       "      <th>1</th>\n",
       "      <td>Afghanistan</td>\n",
       "      <td>1957</td>\n",
       "      <td>9240934.0</td>\n",
       "      <td>Asia</td>\n",
       "      <td>30.332</td>\n",
       "      <td>820.853030</td>\n",
       "    </tr>\n",
       "    <tr>\n",
       "      <th>2</th>\n",
       "      <td>Afghanistan</td>\n",
       "      <td>1962</td>\n",
       "      <td>10267083.0</td>\n",
       "      <td>Asia</td>\n",
       "      <td>31.997</td>\n",
       "      <td>853.100710</td>\n",
       "    </tr>\n",
       "    <tr>\n",
       "      <th>3</th>\n",
       "      <td>Afghanistan</td>\n",
       "      <td>1967</td>\n",
       "      <td>11537966.0</td>\n",
       "      <td>Asia</td>\n",
       "      <td>34.020</td>\n",
       "      <td>836.197138</td>\n",
       "    </tr>\n",
       "    <tr>\n",
       "      <th>4</th>\n",
       "      <td>Afghanistan</td>\n",
       "      <td>1972</td>\n",
       "      <td>13079460.0</td>\n",
       "      <td>Asia</td>\n",
       "      <td>36.088</td>\n",
       "      <td>739.981106</td>\n",
       "    </tr>\n",
       "    <tr>\n",
       "      <th>...</th>\n",
       "      <td>...</td>\n",
       "      <td>...</td>\n",
       "      <td>...</td>\n",
       "      <td>...</td>\n",
       "      <td>...</td>\n",
       "      <td>...</td>\n",
       "    </tr>\n",
       "    <tr>\n",
       "      <th>1699</th>\n",
       "      <td>Zimbabwe</td>\n",
       "      <td>1987</td>\n",
       "      <td>9216418.0</td>\n",
       "      <td>Africa</td>\n",
       "      <td>62.351</td>\n",
       "      <td>706.157306</td>\n",
       "    </tr>\n",
       "    <tr>\n",
       "      <th>1700</th>\n",
       "      <td>Zimbabwe</td>\n",
       "      <td>1992</td>\n",
       "      <td>10704340.0</td>\n",
       "      <td>Africa</td>\n",
       "      <td>60.377</td>\n",
       "      <td>693.420786</td>\n",
       "    </tr>\n",
       "    <tr>\n",
       "      <th>1701</th>\n",
       "      <td>Zimbabwe</td>\n",
       "      <td>1997</td>\n",
       "      <td>11404948.0</td>\n",
       "      <td>Africa</td>\n",
       "      <td>46.809</td>\n",
       "      <td>792.449960</td>\n",
       "    </tr>\n",
       "    <tr>\n",
       "      <th>1702</th>\n",
       "      <td>Zimbabwe</td>\n",
       "      <td>2002</td>\n",
       "      <td>11926563.0</td>\n",
       "      <td>Africa</td>\n",
       "      <td>39.989</td>\n",
       "      <td>672.038623</td>\n",
       "    </tr>\n",
       "    <tr>\n",
       "      <th>1703</th>\n",
       "      <td>Zimbabwe</td>\n",
       "      <td>2007</td>\n",
       "      <td>12311143.0</td>\n",
       "      <td>Africa</td>\n",
       "      <td>43.487</td>\n",
       "      <td>469.709298</td>\n",
       "    </tr>\n",
       "  </tbody>\n",
       "</table>\n",
       "<p>1704 rows × 6 columns</p>\n",
       "</div>"
      ],
      "text/plain": [
       "          country  year         pop continent  lifeExp   gdpPercap\n",
       "0     Afghanistan  1952   8425333.0      Asia   28.801  779.445314\n",
       "1     Afghanistan  1957   9240934.0      Asia   30.332  820.853030\n",
       "2     Afghanistan  1962  10267083.0      Asia   31.997  853.100710\n",
       "3     Afghanistan  1967  11537966.0      Asia   34.020  836.197138\n",
       "4     Afghanistan  1972  13079460.0      Asia   36.088  739.981106\n",
       "...           ...   ...         ...       ...      ...         ...\n",
       "1699     Zimbabwe  1987   9216418.0    Africa   62.351  706.157306\n",
       "1700     Zimbabwe  1992  10704340.0    Africa   60.377  693.420786\n",
       "1701     Zimbabwe  1997  11404948.0    Africa   46.809  792.449960\n",
       "1702     Zimbabwe  2002  11926563.0    Africa   39.989  672.038623\n",
       "1703     Zimbabwe  2007  12311143.0    Africa   43.487  469.709298\n",
       "\n",
       "[1704 rows x 6 columns]"
      ]
     },
     "execution_count": 6,
     "metadata": {},
     "output_type": "execute_result"
    }
   ],
   "source": [
    "gap"
   ]
  },
  {
   "cell_type": "code",
   "execution_count": 7,
   "metadata": {},
   "outputs": [],
   "source": [
    "data_json = plotar.plotar(gap.query(\"continent=='Europe'\"), xyz=['gdpPercap','year','lifeExp'],\n",
    "              col='country', size='pop', return_data=True)"
   ]
  },
  {
   "cell_type": "code",
   "execution_count": 8,
   "metadata": {},
   "outputs": [],
   "source": [
    "with open('examples/gapminder.json', 'w') as f:\n",
    "    json.dump(data_json, f)"
   ]
  },
  {
   "cell_type": "markdown",
   "metadata": {},
   "source": [
    "## D ONE Team"
   ]
  },
  {
   "cell_type": "markdown",
   "metadata": {},
   "source": [
    "We scrape the http://d-one.ai/team webpage and extract some features on the team member's description"
   ]
  },
  {
   "cell_type": "code",
   "execution_count": 9,
   "metadata": {},
   "outputs": [],
   "source": [
    "from bs4 import BeautifulSoup"
   ]
  },
  {
   "cell_type": "code",
   "execution_count": 10,
   "metadata": {},
   "outputs": [],
   "source": [
    "url = 'https://d-one.ai/team'\n",
    "res = requests.get(url)"
   ]
  },
  {
   "cell_type": "code",
   "execution_count": 11,
   "metadata": {},
   "outputs": [],
   "source": [
    "pd.set_option(\"max_colwidth\", 400)"
   ]
  },
  {
   "cell_type": "code",
   "execution_count": 12,
   "metadata": {},
   "outputs": [
    {
     "data": {
      "text/html": [
       "<div>\n",
       "<style scoped>\n",
       "    .dataframe tbody tr th:only-of-type {\n",
       "        vertical-align: middle;\n",
       "    }\n",
       "\n",
       "    .dataframe tbody tr th {\n",
       "        vertical-align: top;\n",
       "    }\n",
       "\n",
       "    .dataframe thead th {\n",
       "        text-align: right;\n",
       "    }\n",
       "</style>\n",
       "<table border=\"1\" class=\"dataframe\">\n",
       "  <thead>\n",
       "    <tr style=\"text-align: right;\">\n",
       "      <th></th>\n",
       "      <th>name</th>\n",
       "      <th>text</th>\n",
       "    </tr>\n",
       "  </thead>\n",
       "  <tbody>\n",
       "    <tr>\n",
       "      <th>0</th>\n",
       "      <td>Alexandra Studer</td>\n",
       "      <td>Alexandra received her M.Sc. in Mechanical Engineering from the Swiss Federal Institute of Technology (ETH Zurich) in 2016. Her areas of expertise are data analytics and visualization.  Alexandra is with the team since 2017.</td>\n",
       "    </tr>\n",
       "    <tr>\n",
       "      <th>1</th>\n",
       "      <td>Dr. Alex Hall</td>\n",
       "      <td>Alex received his Ph.D. in Computer Science from ETH Zurich in 2003. He was awarded the Medal of the ETH Zurich for his thesis. Afterwards, he held research positions at ETH and at UC Berkeley before joining Google. Among other projects, he has led the implementation of an innovative data-analysis system (full stack from Web-UI to column-store) from scratch. He is currently working as an exter...</td>\n",
       "    </tr>\n",
       "    <tr>\n",
       "      <th>2</th>\n",
       "      <td>Dr. Andrea Abelli</td>\n",
       "      <td>Andrea holds a B.Sc. and a M.Sc. in Electrical Engineering from the University of Nice Sophia-Antipolis and the Sapienza University in Rome. From the same universities, he holds a Ph.D. in Statistical Learning and Control Theory, and a managerial development program from SDA Bocconi School of Management. After, he held positions at United Technologies, Teralytics, KPMG, Delivery Hero and Swiss...</td>\n",
       "    </tr>\n",
       "    <tr>\n",
       "      <th>3</th>\n",
       "      <td>Dr. Andrej Vckovski</td>\n",
       "      <td>Andrej earned his doctorate at the University of Zurich after studying physics at the Swiss Federal Institute of Technology. He co-founded Netcetera in 1996 and is the group's CEO. He is in the board of directors of D ONE since 2006.</td>\n",
       "    </tr>\n",
       "    <tr>\n",
       "      <th>4</th>\n",
       "      <td>Andrey Sluzhivoy</td>\n",
       "      <td>Andrey holds a diploma with honors in Mathematics and Computer Science from the University of Duisburg-Essen in Germany. His areas of expertise are analytics, data warehousing, and dashboard development. Andrey has been in the team since 2016.</td>\n",
       "    </tr>\n",
       "    <tr>\n",
       "      <th>...</th>\n",
       "      <td>...</td>\n",
       "      <td>...</td>\n",
       "    </tr>\n",
       "    <tr>\n",
       "      <th>73</th>\n",
       "      <td>Timothy Sondej</td>\n",
       "      <td>Timothy Sondej received his M.Sc. in Cognitive Neuroscience from the University of Groningen. He also holds a B.Sc. in Experimental Psychology and a BA in Philosophy of Science. Timothy is a data scientist and certified Scrum master. He has been with the team since 2020.</td>\n",
       "    </tr>\n",
       "    <tr>\n",
       "      <th>74</th>\n",
       "      <td>Tommaso Fazio</td>\n",
       "      <td>Tommaso holds an M.Sc. and a B.Sc. in Computer Science from the University of Bari Aldo Moro in Italy and an MBA from the University of the People in Pasadena. Before joining D ONE, he worked in consulting and in various technology startups in Italy and in the UK as data engineer and ML engineer. Tommaso has been with the team since 2020.</td>\n",
       "    </tr>\n",
       "    <tr>\n",
       "      <th>75</th>\n",
       "      <td>Dr. Vito Zanotelli</td>\n",
       "      <td>Vito received his Ph.D. in Systems Biology from University of Zurich. He also holds a M.Sc. in Systems Biology and a B.Sc. in Biology from ETH Zurich. Before joining D ONE, he was working as an intern in R&amp;D of a biotechnology company to generate and analyze large scale datasets. Vito has been with the team since 2020.</td>\n",
       "    </tr>\n",
       "    <tr>\n",
       "      <th>76</th>\n",
       "      <td>Dr. Vlad Crisan</td>\n",
       "      <td>Vlad received his Ph.D. in Mathematics from the University of Göttingen. He also holds a Master and Bachelor degree in Mathematics from Cambridge University. Before joining D ONE, he worked as a data engineer and data scientist building the core platform for a “recruitment as a service” startup. Vlad has been with the team since 2020.</td>\n",
       "    </tr>\n",
       "    <tr>\n",
       "      <th>77</th>\n",
       "      <td>Vladimir Fomin</td>\n",
       "      <td>Vladimir received his M.Sc. in Mathematics as well as his B.Sc. in Mathematics from Swiss Federal Institute of Technology (ETH Zurich) in 2019 and 2018 respectively. His areas of expertise are Computational Statistics, Mathematical Optimization and Machine Learning. Vladimir has been in the team since 2020.</td>\n",
       "    </tr>\n",
       "  </tbody>\n",
       "</table>\n",
       "<p>78 rows × 2 columns</p>\n",
       "</div>"
      ],
      "text/plain": [
       "                    name  \\\n",
       "0      Alexandra Studer    \n",
       "1         Dr. Alex Hall    \n",
       "2     Dr. Andrea Abelli    \n",
       "3   Dr. Andrej Vckovski    \n",
       "4      Andrey Sluzhivoy    \n",
       "..                   ...   \n",
       "73       Timothy Sondej    \n",
       "74        Tommaso Fazio    \n",
       "75   Dr. Vito Zanotelli    \n",
       "76      Dr. Vlad Crisan    \n",
       "77       Vladimir Fomin    \n",
       "\n",
       "                                                                                                                                                                                                                                                                                                                                                                                                               text  \n",
       "0                                                                                                                                                                                  Alexandra received her M.Sc. in Mechanical Engineering from the Swiss Federal Institute of Technology (ETH Zurich) in 2016. Her areas of expertise are data analytics and visualization.  Alexandra is with the team since 2017.  \n",
       "1   Alex received his Ph.D. in Computer Science from ETH Zurich in 2003. He was awarded the Medal of the ETH Zurich for his thesis. Afterwards, he held research positions at ETH and at UC Berkeley before joining Google. Among other projects, he has led the implementation of an innovative data-analysis system (full stack from Web-UI to column-store) from scratch. He is currently working as an exter...  \n",
       "2   Andrea holds a B.Sc. and a M.Sc. in Electrical Engineering from the University of Nice Sophia-Antipolis and the Sapienza University in Rome. From the same universities, he holds a Ph.D. in Statistical Learning and Control Theory, and a managerial development program from SDA Bocconi School of Management. After, he held positions at United Technologies, Teralytics, KPMG, Delivery Hero and Swiss...  \n",
       "3                                                                                                                                                                         Andrej earned his doctorate at the University of Zurich after studying physics at the Swiss Federal Institute of Technology. He co-founded Netcetera in 1996 and is the group's CEO. He is in the board of directors of D ONE since 2006.  \n",
       "4                                                                                                                                                               Andrey holds a diploma with honors in Mathematics and Computer Science from the University of Duisburg-Essen in Germany. His areas of expertise are analytics, data warehousing, and dashboard development. Andrey has been in the team since 2016.  \n",
       "..                                                                                                                                                                                                                                                                                                                                                                                                              ...  \n",
       "73                                                                                                                                  Timothy Sondej received his M.Sc. in Cognitive Neuroscience from the University of Groningen. He also holds a B.Sc. in Experimental Psychology and a BA in Philosophy of Science. Timothy is a data scientist and certified Scrum master. He has been with the team since 2020.  \n",
       "74                                                             Tommaso holds an M.Sc. and a B.Sc. in Computer Science from the University of Bari Aldo Moro in Italy and an MBA from the University of the People in Pasadena. Before joining D ONE, he worked in consulting and in various technology startups in Italy and in the UK as data engineer and ML engineer. Tommaso has been with the team since 2020.  \n",
       "75                                                                                 Vito received his Ph.D. in Systems Biology from University of Zurich. He also holds a M.Sc. in Systems Biology and a B.Sc. in Biology from ETH Zurich. Before joining D ONE, he was working as an intern in R&D of a biotechnology company to generate and analyze large scale datasets. Vito has been with the team since 2020.  \n",
       "76                                                                 Vlad received his Ph.D. in Mathematics from the University of Göttingen. He also holds a Master and Bachelor degree in Mathematics from Cambridge University. Before joining D ONE, he worked as a data engineer and data scientist building the core platform for a “recruitment as a service” startup. Vlad has been with the team since 2020.  \n",
       "77                                                                                             Vladimir received his M.Sc. in Mathematics as well as his B.Sc. in Mathematics from Swiss Federal Institute of Technology (ETH Zurich) in 2019 and 2018 respectively. His areas of expertise are Computational Statistics, Mathematical Optimization and Machine Learning. Vladimir has been in the team since 2020.  \n",
       "\n",
       "[78 rows x 2 columns]"
      ]
     },
     "execution_count": 12,
     "metadata": {},
     "output_type": "execute_result"
    }
   ],
   "source": [
    "soup = BeautifulSoup(res.text, 'html.parser')\n",
    "x = soup.find_all(\"div\", class_=\"details\")\n",
    "team = pd.DataFrame( dict(name=_.find_all('h3')[0].text, text=_.find_all('p')[0].text) for _ in x )\n",
    "team = team.drop_duplicates('name')\n",
    "team"
   ]
  },
  {
   "cell_type": "markdown",
   "metadata": {},
   "source": [
    "Extract two approximate counts: number of words and number of sentence (the latter actuall fails e.g. if many Abbreviations are used :-| )"
   ]
  },
  {
   "cell_type": "code",
   "execution_count": 13,
   "metadata": {},
   "outputs": [],
   "source": [
    "team['n_sent'] = team.text.str.replace(r'[^.]','', regex=True).str.len()\n",
    "team['n_word'] = team.text.str.replace(r'[^ ]','', regex=True).str.len()+1"
   ]
  },
  {
   "cell_type": "markdown",
   "metadata": {},
   "source": [
    "Extract the last mentioned year - usually that is, when people started. If we do not find one, take 2000 as a default value - that is before the company was founded!"
   ]
  },
  {
   "cell_type": "code",
   "execution_count": 14,
   "metadata": {},
   "outputs": [
    {
     "data": {
      "text/plain": [
       "2020    29\n",
       "2021    13\n",
       "2019     6\n",
       "2018     5\n",
       "2016     4\n",
       "2017     4\n",
       "2000     4\n",
       "2014     3\n",
       "2011     2\n",
       "2012     1\n",
       "2003     1\n",
       "2015     1\n",
       "2009     1\n",
       "2007     1\n",
       "2006     1\n",
       "2005     1\n",
       "2013     1\n",
       "Name: year_start, dtype: int64"
      ]
     },
     "execution_count": 14,
     "metadata": {},
     "output_type": "execute_result"
    }
   ],
   "source": [
    "years = team.text.apply(lambda x: ([2000] + [_ for _ in x.split() if _.startswith(\"20\")])[-1])\n",
    "team['year_start'] = years.astype(str).str.rstrip('.').astype(int)\n",
    "team['year_start'].value_counts(dropna=False)"
   ]
  },
  {
   "cell_type": "code",
   "execution_count": 15,
   "metadata": {},
   "outputs": [
    {
     "data": {
      "text/plain": [
       "False    54\n",
       "True     24\n",
       "Name: dr, dtype: int64"
      ]
     },
     "execution_count": 15,
     "metadata": {},
     "output_type": "execute_result"
    }
   ],
   "source": [
    "team['dr'] = team.name.str.startswith(\"Dr.\")\n",
    "team['dr'].value_counts(dropna=False)"
   ]
  },
  {
   "cell_type": "code",
   "execution_count": 16,
   "metadata": {},
   "outputs": [
    {
     "data": {
      "text/html": [
       "<div>\n",
       "<style scoped>\n",
       "    .dataframe tbody tr th:only-of-type {\n",
       "        vertical-align: middle;\n",
       "    }\n",
       "\n",
       "    .dataframe tbody tr th {\n",
       "        vertical-align: top;\n",
       "    }\n",
       "\n",
       "    .dataframe thead th {\n",
       "        text-align: right;\n",
       "    }\n",
       "</style>\n",
       "<table border=\"1\" class=\"dataframe\">\n",
       "  <thead>\n",
       "    <tr style=\"text-align: right;\">\n",
       "      <th></th>\n",
       "      <th>name</th>\n",
       "      <th>text</th>\n",
       "      <th>n_sent</th>\n",
       "      <th>n_word</th>\n",
       "      <th>year_start</th>\n",
       "      <th>dr</th>\n",
       "    </tr>\n",
       "  </thead>\n",
       "  <tbody>\n",
       "    <tr>\n",
       "      <th>0</th>\n",
       "      <td>Alexandra Studer</td>\n",
       "      <td>Alexandra received her M.Sc. in Mechanical Engineering from the Swiss Federal Institute of Technology (ETH Zurich) in 2016. Her areas of expertise are data analytics and visualization.  Alexandra is with the team since 2017.</td>\n",
       "      <td>5</td>\n",
       "      <td>35</td>\n",
       "      <td>2017</td>\n",
       "      <td>False</td>\n",
       "    </tr>\n",
       "    <tr>\n",
       "      <th>1</th>\n",
       "      <td>Dr. Alex Hall</td>\n",
       "      <td>Alex received his Ph.D. in Computer Science from ETH Zurich in 2003. He was awarded the Medal of the ETH Zurich for his thesis. Afterwards, he held research positions at ETH and at UC Berkeley before joining Google. Among other projects, he has led the implementation of an innovative data-analysis system (full stack from Web-UI to column-store) from scratch. He is currently working as an exter...</td>\n",
       "      <td>7</td>\n",
       "      <td>82</td>\n",
       "      <td>2003</td>\n",
       "      <td>True</td>\n",
       "    </tr>\n",
       "    <tr>\n",
       "      <th>2</th>\n",
       "      <td>Dr. Andrea Abelli</td>\n",
       "      <td>Andrea holds a B.Sc. and a M.Sc. in Electrical Engineering from the University of Nice Sophia-Antipolis and the Sapienza University in Rome. From the same universities, he holds a Ph.D. in Statistical Learning and Control Theory, and a managerial development program from SDA Bocconi School of Management. After, he held positions at United Technologies, Teralytics, KPMG, Delivery Hero and Swiss...</td>\n",
       "      <td>10</td>\n",
       "      <td>69</td>\n",
       "      <td>2019</td>\n",
       "      <td>True</td>\n",
       "    </tr>\n",
       "    <tr>\n",
       "      <th>3</th>\n",
       "      <td>Dr. Andrej Vckovski</td>\n",
       "      <td>Andrej earned his doctorate at the University of Zurich after studying physics at the Swiss Federal Institute of Technology. He co-founded Netcetera in 1996 and is the group's CEO. He is in the board of directors of D ONE since 2006.</td>\n",
       "      <td>3</td>\n",
       "      <td>40</td>\n",
       "      <td>2006</td>\n",
       "      <td>True</td>\n",
       "    </tr>\n",
       "    <tr>\n",
       "      <th>4</th>\n",
       "      <td>Andrey Sluzhivoy</td>\n",
       "      <td>Andrey holds a diploma with honors in Mathematics and Computer Science from the University of Duisburg-Essen in Germany. His areas of expertise are analytics, data warehousing, and dashboard development. Andrey has been in the team since 2016.</td>\n",
       "      <td>3</td>\n",
       "      <td>37</td>\n",
       "      <td>2016</td>\n",
       "      <td>False</td>\n",
       "    </tr>\n",
       "    <tr>\n",
       "      <th>...</th>\n",
       "      <td>...</td>\n",
       "      <td>...</td>\n",
       "      <td>...</td>\n",
       "      <td>...</td>\n",
       "      <td>...</td>\n",
       "      <td>...</td>\n",
       "    </tr>\n",
       "    <tr>\n",
       "      <th>73</th>\n",
       "      <td>Timothy Sondej</td>\n",
       "      <td>Timothy Sondej received his M.Sc. in Cognitive Neuroscience from the University of Groningen. He also holds a B.Sc. in Experimental Psychology and a BA in Philosophy of Science. Timothy is a data scientist and certified Scrum master. He has been with the team since 2020.</td>\n",
       "      <td>8</td>\n",
       "      <td>45</td>\n",
       "      <td>2020</td>\n",
       "      <td>False</td>\n",
       "    </tr>\n",
       "    <tr>\n",
       "      <th>74</th>\n",
       "      <td>Tommaso Fazio</td>\n",
       "      <td>Tommaso holds an M.Sc. and a B.Sc. in Computer Science from the University of Bari Aldo Moro in Italy and an MBA from the University of the People in Pasadena. Before joining D ONE, he worked in consulting and in various technology startups in Italy and in the UK as data engineer and ML engineer. Tommaso has been with the team since 2020.</td>\n",
       "      <td>7</td>\n",
       "      <td>62</td>\n",
       "      <td>2020</td>\n",
       "      <td>False</td>\n",
       "    </tr>\n",
       "    <tr>\n",
       "      <th>75</th>\n",
       "      <td>Dr. Vito Zanotelli</td>\n",
       "      <td>Vito received his Ph.D. in Systems Biology from University of Zurich. He also holds a M.Sc. in Systems Biology and a B.Sc. in Biology from ETH Zurich. Before joining D ONE, he was working as an intern in R&amp;D of a biotechnology company to generate and analyze large scale datasets. Vito has been with the team since 2020.</td>\n",
       "      <td>10</td>\n",
       "      <td>57</td>\n",
       "      <td>2020</td>\n",
       "      <td>True</td>\n",
       "    </tr>\n",
       "    <tr>\n",
       "      <th>76</th>\n",
       "      <td>Dr. Vlad Crisan</td>\n",
       "      <td>Vlad received his Ph.D. in Mathematics from the University of Göttingen. He also holds a Master and Bachelor degree in Mathematics from Cambridge University. Before joining D ONE, he worked as a data engineer and data scientist building the core platform for a “recruitment as a service” startup. Vlad has been with the team since 2020.</td>\n",
       "      <td>6</td>\n",
       "      <td>55</td>\n",
       "      <td>2020</td>\n",
       "      <td>True</td>\n",
       "    </tr>\n",
       "    <tr>\n",
       "      <th>77</th>\n",
       "      <td>Vladimir Fomin</td>\n",
       "      <td>Vladimir received his M.Sc. in Mathematics as well as his B.Sc. in Mathematics from Swiss Federal Institute of Technology (ETH Zurich) in 2019 and 2018 respectively. His areas of expertise are Computational Statistics, Mathematical Optimization and Machine Learning. Vladimir has been in the team since 2020.</td>\n",
       "      <td>7</td>\n",
       "      <td>46</td>\n",
       "      <td>2020</td>\n",
       "      <td>False</td>\n",
       "    </tr>\n",
       "  </tbody>\n",
       "</table>\n",
       "<p>78 rows × 6 columns</p>\n",
       "</div>"
      ],
      "text/plain": [
       "                    name  \\\n",
       "0      Alexandra Studer    \n",
       "1         Dr. Alex Hall    \n",
       "2     Dr. Andrea Abelli    \n",
       "3   Dr. Andrej Vckovski    \n",
       "4      Andrey Sluzhivoy    \n",
       "..                   ...   \n",
       "73       Timothy Sondej    \n",
       "74        Tommaso Fazio    \n",
       "75   Dr. Vito Zanotelli    \n",
       "76      Dr. Vlad Crisan    \n",
       "77       Vladimir Fomin    \n",
       "\n",
       "                                                                                                                                                                                                                                                                                                                                                                                                               text  \\\n",
       "0                                                                                                                                                                                  Alexandra received her M.Sc. in Mechanical Engineering from the Swiss Federal Institute of Technology (ETH Zurich) in 2016. Her areas of expertise are data analytics and visualization.  Alexandra is with the team since 2017.   \n",
       "1   Alex received his Ph.D. in Computer Science from ETH Zurich in 2003. He was awarded the Medal of the ETH Zurich for his thesis. Afterwards, he held research positions at ETH and at UC Berkeley before joining Google. Among other projects, he has led the implementation of an innovative data-analysis system (full stack from Web-UI to column-store) from scratch. He is currently working as an exter...   \n",
       "2   Andrea holds a B.Sc. and a M.Sc. in Electrical Engineering from the University of Nice Sophia-Antipolis and the Sapienza University in Rome. From the same universities, he holds a Ph.D. in Statistical Learning and Control Theory, and a managerial development program from SDA Bocconi School of Management. After, he held positions at United Technologies, Teralytics, KPMG, Delivery Hero and Swiss...   \n",
       "3                                                                                                                                                                         Andrej earned his doctorate at the University of Zurich after studying physics at the Swiss Federal Institute of Technology. He co-founded Netcetera in 1996 and is the group's CEO. He is in the board of directors of D ONE since 2006.   \n",
       "4                                                                                                                                                               Andrey holds a diploma with honors in Mathematics and Computer Science from the University of Duisburg-Essen in Germany. His areas of expertise are analytics, data warehousing, and dashboard development. Andrey has been in the team since 2016.   \n",
       "..                                                                                                                                                                                                                                                                                                                                                                                                              ...   \n",
       "73                                                                                                                                  Timothy Sondej received his M.Sc. in Cognitive Neuroscience from the University of Groningen. He also holds a B.Sc. in Experimental Psychology and a BA in Philosophy of Science. Timothy is a data scientist and certified Scrum master. He has been with the team since 2020.   \n",
       "74                                                             Tommaso holds an M.Sc. and a B.Sc. in Computer Science from the University of Bari Aldo Moro in Italy and an MBA from the University of the People in Pasadena. Before joining D ONE, he worked in consulting and in various technology startups in Italy and in the UK as data engineer and ML engineer. Tommaso has been with the team since 2020.   \n",
       "75                                                                                 Vito received his Ph.D. in Systems Biology from University of Zurich. He also holds a M.Sc. in Systems Biology and a B.Sc. in Biology from ETH Zurich. Before joining D ONE, he was working as an intern in R&D of a biotechnology company to generate and analyze large scale datasets. Vito has been with the team since 2020.   \n",
       "76                                                                 Vlad received his Ph.D. in Mathematics from the University of Göttingen. He also holds a Master and Bachelor degree in Mathematics from Cambridge University. Before joining D ONE, he worked as a data engineer and data scientist building the core platform for a “recruitment as a service” startup. Vlad has been with the team since 2020.   \n",
       "77                                                                                             Vladimir received his M.Sc. in Mathematics as well as his B.Sc. in Mathematics from Swiss Federal Institute of Technology (ETH Zurich) in 2019 and 2018 respectively. His areas of expertise are Computational Statistics, Mathematical Optimization and Machine Learning. Vladimir has been in the team since 2020.   \n",
       "\n",
       "    n_sent  n_word  year_start     dr  \n",
       "0        5      35        2017  False  \n",
       "1        7      82        2003   True  \n",
       "2       10      69        2019   True  \n",
       "3        3      40        2006   True  \n",
       "4        3      37        2016  False  \n",
       "..     ...     ...         ...    ...  \n",
       "73       8      45        2020  False  \n",
       "74       7      62        2020  False  \n",
       "75      10      57        2020   True  \n",
       "76       6      55        2020   True  \n",
       "77       7      46        2020  False  \n",
       "\n",
       "[78 rows x 6 columns]"
      ]
     },
     "execution_count": 16,
     "metadata": {},
     "output_type": "execute_result"
    }
   ],
   "source": [
    "team"
   ]
  },
  {
   "cell_type": "code",
   "execution_count": 17,
   "metadata": {},
   "outputs": [
    {
     "data": {
      "text/plain": [
       "Index(['name', 'text', 'n_sent', 'n_word', 'year_start', 'dr'], dtype='object')"
      ]
     },
     "execution_count": 17,
     "metadata": {},
     "output_type": "execute_result"
    }
   ],
   "source": [
    "team.columns"
   ]
  },
  {
   "cell_type": "code",
   "execution_count": 18,
   "metadata": {},
   "outputs": [],
   "source": [
    "data_json = plotar.plotar(team, xyz=['n_word', 'n_sent', 'year_start'], col='dr', label='name', size=0.2, return_data=True)"
   ]
  },
  {
   "cell_type": "code",
   "execution_count": 19,
   "metadata": {},
   "outputs": [],
   "source": [
    "with open('examples/d-one-team.json', 'w') as f:\n",
    "    json.dump(data_json, f)"
   ]
  },
  {
   "cell_type": "markdown",
   "metadata": {},
   "source": [
    "## CH - surface of Switzerland"
   ]
  },
  {
   "cell_type": "markdown",
   "metadata": {},
   "source": [
    "We use the [Swisstopo Digital Height Model](https://www.swisstopo.admin.ch/de/geodata/height/dhm25200.html) 200m grid to draw a surface of Swizterland."
   ]
  },
  {
   "cell_type": "code",
   "execution_count": 20,
   "metadata": {},
   "outputs": [],
   "source": [
    "url = 'https://data.geo.admin.ch/ch.swisstopo.digitales-hoehenmodell_25/data.zip'\n",
    "file_name = 'DHM200.asc'\n",
    "file = Path(\"tmp\") / file_name"
   ]
  },
  {
   "cell_type": "markdown",
   "metadata": {},
   "source": [
    "Download Zip file, unzip the part we need to file:"
   ]
  },
  {
   "cell_type": "code",
   "execution_count": 21,
   "metadata": {},
   "outputs": [
    {
     "name": "stdout",
     "output_type": "stream",
     "text": [
      "Downloading https://data.geo.admin.ch/ch.swisstopo.digitales-hoehenmodell_25/data.zip to tmp/DHM200.asc ...\n",
      "Done\n"
     ]
    }
   ],
   "source": [
    "if not file.exists():\n",
    "    from io import BytesIO\n",
    "    from zipfile import ZipFile\n",
    "    import shutil\n",
    "    print(f\"Downloading {url} to {file} ...\")\n",
    "    zipfile = ZipFile(BytesIO(requests.get(url).content))\n",
    "    with open(file, 'wb') as f:\n",
    "        shutil.copyfileobj(zipfile.open(\"DHM200.asc\"), f)\n",
    "    print(\"Done\")\n",
    "else:\n",
    "    print(f\"{file} is ready\")"
   ]
  },
  {
   "cell_type": "code",
   "execution_count": 22,
   "metadata": {},
   "outputs": [
    {
     "name": "stdout",
     "output_type": "stream",
     "text": [
      "{'NCOLS': 1926.0, 'NROWS': 1201.0, 'XLLCORNER': 479900.0, 'YLLCORNER': 61900.0, 'CELLSIZE': 200.0, 'NODATA_VALUE': -9999.0}\n",
      "CPU times: user 1.59 s, sys: 118 ms, total: 1.71 s\n",
      "Wall time: 1.72 s\n"
     ]
    },
    {
     "data": {
      "text/plain": [
       "(115656, 20)"
      ]
     },
     "execution_count": 22,
     "metadata": {},
     "output_type": "execute_result"
    }
   ],
   "source": [
    "%%time\n",
    "y_head = {k: float(v) for k,v in np.genfromtxt(file, dtype=str, max_rows=6)}\n",
    "print(y_head)\n",
    "y = np.genfromtxt(file, skip_header=6, skip_footer=1)\n",
    "y.shape"
   ]
  },
  {
   "cell_type": "code",
   "execution_count": 23,
   "metadata": {},
   "outputs": [
    {
     "data": {
      "text/plain": [
       "(1926, 1201)"
      ]
     },
     "execution_count": 23,
     "metadata": {},
     "output_type": "execute_result"
    }
   ],
   "source": [
    "n,m = [int(y_head[_]) for _ in ['NCOLS','NROWS']]\n",
    "n,m"
   ]
  },
  {
   "cell_type": "code",
   "execution_count": 24,
   "metadata": {},
   "outputs": [],
   "source": [
    "img = y.flatten()[:n*(m-1)].reshape((m-1,n))"
   ]
  },
  {
   "cell_type": "markdown",
   "metadata": {},
   "source": [
    "This file is actually rather big - if you want you can make it smaller by setting factor to e.g. 5, 10, 20. We set it to 2 for mybinder.org"
   ]
  },
  {
   "cell_type": "code",
   "execution_count": 25,
   "metadata": {},
   "outputs": [],
   "source": [
    "factor = 2"
   ]
  },
  {
   "cell_type": "code",
   "execution_count": 26,
   "metadata": {},
   "outputs": [],
   "source": [
    "img = img[::factor,::factor]"
   ]
  },
  {
   "cell_type": "code",
   "execution_count": 27,
   "metadata": {},
   "outputs": [],
   "source": [
    "xvec = np.arange(img.shape[1]) * y_head['CELLSIZE'] * factor\n",
    "yvec = np.arange(img.shape[0]) * y_head['CELLSIZE'] * factor"
   ]
  },
  {
   "cell_type": "markdown",
   "metadata": {},
   "source": [
    "Impute negative, i.e. NA values"
   ]
  },
  {
   "cell_type": "code",
   "execution_count": 28,
   "metadata": {},
   "outputs": [],
   "source": [
    "img[img<0] = 400"
   ]
  },
  {
   "cell_type": "markdown",
   "metadata": {},
   "source": [
    "Quickly draw it here so we understand whats happening:"
   ]
  },
  {
   "cell_type": "code",
   "execution_count": 29,
   "metadata": {},
   "outputs": [
    {
     "data": {
      "image/png": "[encoded data removed]",
      "text/plain": [
       "<Figure size 432x288 with 1 Axes>"
      ]
     },
     "metadata": {
      "needs_background": "light"
     },
     "output_type": "display_data"
    }
   ],
   "source": [
    "i = plt.imshow(img, interpolation='none');"
   ]
  },
  {
   "cell_type": "code",
   "execution_count": 30,
   "metadata": {},
   "outputs": [
    {
     "data": {
      "image/png": "[encoded data removed]",
      "text/plain": [
       "<Figure size 432x288 with 1 Axes>"
      ]
     },
     "metadata": {
      "needs_background": "light"
     },
     "output_type": "display_data"
    }
   ],
   "source": [
    "plt.hist(img.flatten(), 100);"
   ]
  },
  {
   "cell_type": "code",
   "execution_count": 31,
   "metadata": {
    "tags": []
   },
   "outputs": [],
   "source": [
    "data_json = plotar.surfacevr(img, x=xvec, y=yvec, return_data=True)"
   ]
  },
  {
   "cell_type": "code",
   "execution_count": 32,
   "metadata": {},
   "outputs": [],
   "source": [
    "with open('examples/CH-full.json', 'w') as f:\n",
    "    json.dump(data_json, f)"
   ]
  },
  {
   "cell_type": "markdown",
   "metadata": {},
   "source": [
    "## Planets"
   ]
  },
  {
   "cell_type": "markdown",
   "metadata": {},
   "source": [
    "We visualize the position of the Planets in the solar system at some time using the skyfield package."
   ]
  },
  {
   "cell_type": "code",
   "execution_count": 33,
   "metadata": {},
   "outputs": [],
   "source": [
    "from skyfield.api import Loader"
   ]
  },
  {
   "cell_type": "code",
   "execution_count": 34,
   "metadata": {},
   "outputs": [],
   "source": [
    "load = Loader(\"./tmp/\")"
   ]
  },
  {
   "cell_type": "code",
   "execution_count": 35,
   "metadata": {},
   "outputs": [],
   "source": [
    "ts = load.timescale()\n",
    "t = ts.utc(2021, 2, 26, 15, 19)"
   ]
  },
  {
   "cell_type": "markdown",
   "metadata": {},
   "source": [
    "**Note:** on mybinder.org unfortunately ftp-downloads are blocked so this will run into a timeout. We are preparing a workaround."
   ]
  },
  {
   "cell_type": "code",
   "execution_count": 36,
   "metadata": {},
   "outputs": [
    {
     "name": "stderr",
     "output_type": "stream",
     "text": [
      "[#################################] 100% de421.bsp\n"
     ]
    }
   ],
   "source": [
    "planets = load('de421.bsp')  # ephemeris DE421"
   ]
  },
  {
   "cell_type": "code",
   "execution_count": null,
   "metadata": {},
   "outputs": [],
   "source": []
  },
  {
   "cell_type": "code",
   "execution_count": 37,
   "metadata": {},
   "outputs": [
    {
     "name": "stdout",
     "output_type": "stream",
     "text": [
      "10\n"
     ]
    },
    {
     "data": {
      "text/plain": [
       "['MERCURY BARYCENTER',\n",
       " 'VENUS BARYCENTER',\n",
       " 'EARTH BARYCENTER',\n",
       " 'MARS BARYCENTER',\n",
       " 'JUPITER BARYCENTER',\n",
       " 'SATURN BARYCENTER',\n",
       " 'URANUS BARYCENTER',\n",
       " 'NEPTUNE BARYCENTER',\n",
       " 'PLUTO BARYCENTER',\n",
       " 'SUN']"
      ]
     },
     "execution_count": 37,
     "metadata": {},
     "output_type": "execute_result"
    }
   ],
   "source": [
    "planet_names = [ _[-1] for i,_ in planets.names().items() if 0 < i < 100 ]\n",
    "print(len(planet_names))\n",
    "planet_names"
   ]
  },
  {
   "cell_type": "markdown",
   "metadata": {},
   "source": [
    "https://en.wikipedia.org/wiki/Planet"
   ]
  },
  {
   "cell_type": "markdown",
   "metadata": {},
   "source": [
    "\tName\tEquatorial\n",
    "diameter [i]\tMass [i]\tSemi-major axis (AU)\tOrbital period\n",
    "(years)\tInclination\n",
    "to Sun's equator (°)\tOrbital\n",
    "eccentricity\tRotation period\n",
    "(days)\tConfirmed\n",
    "moons\tAxial tilt (°)\tRings\tAtmosphere\n",
    "1.\tMercury\t0.383\t0.06\t0.39\t0.24\t3.38\t0.206\t58.65\t0\t0.10\tno\tminimal\n",
    "2.\tVenus\t0.949\t0.81\t0.72\t0.62\t3.86\t0.007\t−243.02\t0\t177.30\tno\tCO2, N2\n",
    "3.\tEarth\t1.000\t1.00\t1.00\t1.00\t7.25\t0.017\t1.00\t1\t23.44\tno\tN2, O2, Ar\n",
    "4.\tMars\t0.532\t0.11\t1.52\t1.88\t5.65\t0.093\t1.03\t2\t25.19\tno\tCO2, N2, Ar\n",
    "5.\tJupiter\t11.209\t317.83\t5.20\t11.86\t6.09\t0.048\t0.41\t79\t3.12\tyes\tH2, He\n",
    "6.\tSaturn\t9.449\t95.16\t9.54\t29.45\t5.51\t0.054\t0.44\t82\t26.73\tyes\tH2, He\n",
    "7.\tUranus\t4.007\t14.54\t19.19\t84.02\t6.48\t0.047\t−0.72\t27\t97.86\tyes\tH2, He, CH4\n",
    "8.\tNeptune\t3.883\t17.15\t30.07\t164.79\t6.43\t0.009\t0.67\t14\t29.60\tyes\tH2, He, CH4j"
   ]
  },
  {
   "cell_type": "code",
   "execution_count": 38,
   "metadata": {},
   "outputs": [],
   "source": [
    "planet_sizes = {\n",
    "'Mercury': '0.383',\n",
    "'Venus': '0.949',\n",
    "'Earth': '1.000',\n",
    "'Mars': '0.532',\n",
    "'Jupiter': '11.20',\n",
    "'Saturn': '9.449',\n",
    "'Uranus': '4.007',\n",
    "'Neptune': '3.883',\n",
    "}"
   ]
  },
  {
   "cell_type": "code",
   "execution_count": 39,
   "metadata": {},
   "outputs": [],
   "source": [
    "planets_xyz = np.array([planets[_].at(t).ecliptic_xyz().au for _ in planet_names ])"
   ]
  },
  {
   "cell_type": "code",
   "execution_count": 40,
   "metadata": {},
   "outputs": [],
   "source": [
    "data = plotar.plotar(planets_xyz, #col=planet_names, label=np.array(planet_names),\n",
    "              return_data=True)"
   ]
  },
  {
   "cell_type": "code",
   "execution_count": 41,
   "metadata": {},
   "outputs": [],
   "source": [
    "with open('examples/planets.json', 'w') as f:\n",
    "    json.dump(data, f)"
   ]
  },
  {
   "cell_type": "code",
   "execution_count": null,
   "metadata": {},
   "outputs": [],
   "source": []
  }
 ],
 "metadata": {
  "kernelspec": {
   "display_name": "Python 3",
   "language": "python",
   "name": "python3"
  },
  "language_info": {
   "codemirror_mode": {
    "name": "ipython",
    "version": 3
   },
   "file_extension": ".py",
   "mimetype": "text/x-python",
   "name": "python",
   "nbconvert_exporter": "python",
   "pygments_lexer": "ipython3",
   "version": "3.7.5"
  }
 },
 "nbformat": 4,
 "nbformat_minor": 4
}
